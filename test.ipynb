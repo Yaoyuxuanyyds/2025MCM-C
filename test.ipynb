{
 "cells": [
  {
   "cell_type": "markdown",
   "metadata": {},
   "source": [
    "## 序列数据加载"
   ]
  },
  {
   "cell_type": "code",
   "execution_count": 2,
   "metadata": {},
   "outputs": [],
   "source": [
    "import pandas as pd\n",
    "import numpy as np\n",
    "import torch\n",
    "import torch.nn as nn\n",
    "import torch.optim as optim"
   ]
  },
  {
   "cell_type": "code",
   "execution_count": 3,
   "metadata": {},
   "outputs": [
    {
     "name": "stdout",
     "output_type": "stream",
     "text": [
      "{'3x3 Basketball': 0, 'Aeronautics': 1, 'Alpinism': 2, 'Archery': 3, 'Art Competitions': 4, 'Artistic Gymnastics': 5, 'Artistic Swimming': 6, 'Athletics': 7, 'Badminton': 8, 'Baseball': 9, 'Baseball/Softball': 10, 'Basketball': 11, 'Basque Pelota': 12, 'Beach Volleyball': 13, 'Boxing': 14, 'Breaking': 15, 'Canoe Slalom': 16, 'Canoe Sprint': 17, 'Canoeing': 18, 'Cricket': 19, 'Croquet': 20, 'Cycling': 21, 'Cycling BMX Freestyle': 22, 'Cycling BMX Racing': 23, 'Cycling Mountain Bike': 24, 'Cycling Road': 25, 'Cycling Road, Cycling Mountain Bike': 26, 'Cycling Road, Cycling Track': 27, 'Cycling Road, Triathlon': 28, 'Cycling Track': 29, 'Diving': 30, 'Equestrian': 31, 'Equestrianism': 32, 'Fencing': 33, 'Figure Skating': 34, 'Football': 35, 'Golf': 36, 'Gymnastics': 37, 'Handball': 38, 'Hockey': 39, 'Ice Hockey': 40, 'Jeu De Paume': 41, 'Judo': 42, 'Karate': 43, 'Lacrosse': 44, 'Marathon Swimming': 45, 'Marathon Swimming, Swimming': 46, 'Modern Pentathlon': 47, 'Motorboating': 48, 'Polo': 49, 'Racquets': 50, 'Rhythmic Gymnastics': 51, 'Roque': 52, 'Rowing': 53, 'Rugby': 54, 'Rugby Sevens': 55, 'Sailing': 56, 'Shooting': 57, 'Skateboarding': 58, 'Softball': 59, 'Sport Climbing': 60, 'Surfing': 61, 'Swimming': 62, 'Synchronized Swimming': 63, 'Table Tennis': 64, 'Taekwondo': 65, 'Tennis': 66, 'Trampoline Gymnastics': 67, 'Trampolining': 68, 'Triathlon': 69, 'Tug-Of-War': 70, 'Volleyball': 71, 'Water Polo': 72, 'Weightlifting': 73, 'Wrestling': 74}\n",
      "{1896: 0, 1900: 1, 1904: 2, 1906: 3, 1908: 4, 1912: 5, 1920: 6, 1924: 7, 1928: 8, 1932: 9, 1936: 10, 1948: 11, 1952: 12, 1956: 13, 1960: 14, 1964: 15, 1968: 16, 1972: 17, 1976: 18, 1980: 19, 1984: 20, 1988: 21, 1992: 22, 1996: 23, 2000: 24, 2004: 25, 2008: 26, 2012: 27, 2016: 28, 2020: 29, 2024: 30}\n",
      "结果张量已保存到 data/olympic_medals.npy\n",
      "张量形状: (75, 31, 234)\n"
     ]
    }
   ],
   "source": [
    "\n",
    "\n",
    "# 1. 加载数据\n",
    "file_path = 'data/summerOly_athletes.csv'\n",
    "data = pd.read_csv(file_path)\n",
    "\n",
    "# 2. 数据预处理\n",
    "\n",
    "# 获取独特的运动项目、年份和代表队\n",
    "sports = sorted(data['Sport'].unique())  # 运动项目 S\n",
    "years = sorted(data['Year'].unique())   # 奥运会年份 T\n",
    "nocs = sorted(data['NOC'].unique())     # 国家代表队 N\n",
    "\n",
    "# 过滤掉没有奖牌的数据\n",
    "data = data[data['Medal'] != 'No medal']\n",
    "\n",
    "# 构建映射表\n",
    "sport_to_idx = {sport: i for i, sport in enumerate(sports)}\n",
    "year_to_idx = {year: i for i, year in enumerate(years)}\n",
    "noc_to_idx = {noc: i for i, noc in enumerate(nocs)}\n",
    "print(sport_to_idx)\n",
    "print(year_to_idx)\n",
    "\n",
    "# 初始化结果张量\n",
    "S, T, N = len(sports), len(years), len(nocs)\n",
    "result_tensor = np.zeros((S, T, N), dtype=int)\n",
    "\n",
    "# 3. 构建张量\n",
    "for _, row in data.iterrows():\n",
    "    sport_idx = sport_to_idx[row['Sport']]\n",
    "    year_idx = year_to_idx[row['Year']]\n",
    "    noc_idx = noc_to_idx[row['NOC']]\n",
    "    result_tensor[sport_idx, year_idx, noc_idx] = 1  # 标记该国家在该年该运动有奖牌\n",
    "\n",
    "# 4. 保存结果\n",
    "output_path = 'data/olympic_medals.npy'\n",
    "np.save(output_path, result_tensor)\n",
    "print(f\"结果张量已保存到 {output_path}\")\n",
    "print(f\"张量形状: {result_tensor.shape}\")  # 输出 S*T*N 的张量形状\n"
   ]
  },
  {
   "cell_type": "code",
   "execution_count": 4,
   "metadata": {},
   "outputs": [
    {
     "name": "stdout",
     "output_type": "stream",
     "text": [
      "57\n",
      "['Aeronautics', 'Alpinism', 'Artistic Swimming', 'Baseball/Softball', 'Basque Pelota', 'Breaking', 'Cricket', 'Croquet', 'Cycling BMX Racing', 'Cycling Mountain Bike', 'Cycling Road, Cycling Mountain Bike', 'Cycling Road, Cycling Track', 'Cycling Road, Triathlon', 'Figure Skating', 'Ice Hockey', 'Jeu De Paume', 'Lacrosse', 'Marathon Swimming', 'Marathon Swimming, Swimming', 'Motorboating', 'Racquets', 'Roque', 'Surfing', 'Trampoline Gymnastics']\n"
     ]
    }
   ],
   "source": [
    "t = result_tensor[8]\n",
    "print(sum(sum(t)))\n",
    "# 筛选出sum(sum(t))的值小于10的运动\n",
    "sport_to_idx_inv = {v: k for k, v in sport_to_idx.items()}\n",
    "selected_sports = [sport_to_idx_inv[i] for i in range(S) if sum(sum(result_tensor[i])) < 10]\n",
    "print(selected_sports)\n"
   ]
  },
  {
   "cell_type": "markdown",
   "metadata": {},
   "source": [
    "## 平滑操作"
   ]
  },
  {
   "cell_type": "code",
   "execution_count": 5,
   "metadata": {},
   "outputs": [],
   "source": [
    "# 加载某一项运动对应的数据作为时间序列数据用于训练\n",
    "idx = 8  # 选择第 8 项运动\n",
    "medal_dist = torch.tensor(np.load('data/olympic_medals.npy')[idx], dtype=torch.float32).numpy()\n",
    "\n",
    "# 加载对应的运动员数量-国家分布作为平滑参数\n",
    "sport = sport_to_idx_inv[idx]\n",
    "file_path = f'data/athletes_count/{sport}.csv'\n",
    "athletes_count = pd.read_csv(file_path)\n",
    "# 列索引中年份并不是顺序的，需要重新排序\n",
    "years = sorted(athletes_count.columns)\n",
    "athletes_count = athletes_count[years]\n",
    "# 将数据转换为 NumPy 数组\n",
    "athletes_per_noc = athletes_count.values\n",
    "# 每一行的最后一项是NOC并转置，使每一行表示每一年的运动员数量-国家分布\n",
    "athletes_per_noc = athletes_per_noc[:, :-1].T\n",
    "\n",
    "\n",
    "\n",
    "def smooth_distribution_with_decrease(A, B, smooth_factor=1.0):\n",
    "    A = np.array(A, dtype=float)\n",
    "    B = np.array(B, dtype=float)\n",
    "    # 确保 A 和 B 的长度相等\n",
    "    assert A.shape == B.shape, f\"A({A.shape}) and B({B.shape}) must have the same shape.\"\n",
    "    # 标准化 B，避免 B 全零的情况\n",
    "    if B.sum() > 0:\n",
    "        B_norm = B / B.sum()\n",
    "    else:\n",
    "        B_norm = np.zeros_like(B)\n",
    "    \n",
    "    # 构造平滑因子\n",
    "    S = B_norm * smooth_factor\n",
    "    # 初始化平滑后的 A\n",
    "    A_smoothed = np.zeros_like(A)\n",
    "    \n",
    "    # 对 A 的每一项进行更新\n",
    "    for i in range(len(A)):\n",
    "        if A[i] == 0:\n",
    "            # A[i] 为 0 的情况下，平滑值来源于 S[i]\n",
    "            A_smoothed[i] = S[i]\n",
    "        else:\n",
    "            # A[i] 为非零时，值减少，且减少量不能超过 S[i]\n",
    "            A_smoothed[i] = A[i] - min(A[i], S[i])\n",
    "    \n",
    "    # 保证 B[i] 为 0 时 A_smoothed 也为 0\n",
    "    A_smoothed[B == 0] = 0\n",
    "    \n",
    "    return A_smoothed\n",
    "\n",
    "\n",
    "# 对每个年份的分布进行平滑处理\n",
    "for i in range(T):\n",
    "    medal_dist[i] = smooth_distribution_with_decrease(medal_dist[i], athletes_per_noc[i])\n",
    "# 保存平滑后的数据\n",
    "np.save('data/medals_dist_smoothed.npy', medal_dist)\n"
   ]
  },
  {
   "cell_type": "markdown",
   "metadata": {},
   "source": [
    "## 建立模型 （针对某一项运动）"
   ]
  },
  {
   "cell_type": "code",
   "execution_count": null,
   "metadata": {},
   "outputs": [
    {
     "name": "stdout",
     "output_type": "stream",
     "text": [
      "Epoch 50/1000, Loss: 5.8723\n",
      "Epoch 100/1000, Loss: 3.2642\n",
      "Epoch 150/1000, Loss: 2.0102\n",
      "Epoch 200/1000, Loss: 1.3615\n",
      "Epoch 250/1000, Loss: 1.0005\n",
      "Epoch 300/1000, Loss: 0.7868\n",
      "Epoch 350/1000, Loss: 0.6538\n",
      "Epoch 400/1000, Loss: 0.5675\n",
      "Epoch 450/1000, Loss: 0.5098\n",
      "Epoch 500/1000, Loss: 0.4701\n",
      "Epoch 550/1000, Loss: 0.4423\n",
      "Epoch 600/1000, Loss: 0.4225\n",
      "Epoch 650/1000, Loss: 0.4081\n",
      "Epoch 700/1000, Loss: 0.3977\n",
      "Epoch 750/1000, Loss: 0.3900\n",
      "Epoch 800/1000, Loss: 0.3843\n",
      "Epoch 850/1000, Loss: 0.3800\n",
      "Epoch 900/1000, Loss: 0.3768\n",
      "Epoch 950/1000, Loss: 0.3744\n",
      "Epoch 1000/1000, Loss: 0.3726\n",
      "Learned weights: tensor([0.2363, 0.4725, 0.7088, 0.9450, 1.1813, 1.4175, 1.6538, 1.8901, 2.1263,\n",
      "        2.3626, 2.5988, 2.8351, 3.0713, 3.3076, 3.5438, 3.7801, 4.0164, 4.2526,\n",
      "        4.4889, 4.7251, 4.9614, 5.1976, 5.4339, 5.6593, 5.8821, 6.0946, 6.3149,\n",
      "        6.5198, 6.7180, 6.9205, 8.2338], grad_fn=<CumsumBackward0>)\n"
     ]
    }
   ],
   "source": [
    "\n",
    "# 加载平滑后的数据转换\n",
    "x = torch.tensor(np.load('data/medals_dist_smoothed.npy'), dtype=torch.float32)\n",
    "# x = torch.tensor(np.load('data/olympic_medals.npy')[idx], dtype=torch.float32)\n",
    "\n",
    "T, N = x.size()  # 时间序列长度和向量维度\n",
    "\n",
    "# 定义权重优化模型\n",
    "class WeightOptimizer(nn.Module):\n",
    "    def __init__(self, T):\n",
    "        super(WeightOptimizer, self).__init__()\n",
    "        # 初始化全局权重序列为可训练参数\n",
    "        self.weights = nn.Parameter(torch.ones(T))  # 长度为 T 的权重序列\n",
    "\n",
    "\n",
    "    def forward(self, x):\n",
    "        T, N = x.size()  # 时间序列长度和向量维度\n",
    "        total_loss = 0  # 损失累计\n",
    "        \n",
    "        for k in range(1, T):  # 从时间步 2 开始预测\n",
    "            # 通过 Softplus 确保非负，再通过 cumsum 累加确保单增\n",
    "            weights = torch.cumsum(torch.nn.functional.softplus(self.weights), dim=0)  # (T,)\n",
    "            # 截取前 k 个权重\n",
    "            k_weights = weights[:k]\n",
    "            # 根据权重加权计算预测值\n",
    "            x_pred = torch.mean(k_weights.unsqueeze(1) * x[:k], dim=0)  # (N,)\n",
    "            # 计算当前时间步的预测损失\n",
    "            total_loss += torch.norm(x_pred - x[k]) ** 2\n",
    "\n",
    "        # 返回平均损失\n",
    "        return total_loss / T\n",
    "\n",
    "# 实例化模型\n",
    "model = WeightOptimizer(T)\n",
    "\n",
    "# 定义优化器\n",
    "optimizer = optim.Adam(model.parameters(), lr=0.01)\n",
    "\n",
    "# 训练循环\n",
    "num_epochs = 1000\n",
    "for epoch in range(num_epochs):\n",
    "    optimizer.zero_grad()  # 清除梯度\n",
    "    loss = model(x)  # 计算损失\n",
    "    loss.backward()  # 反向传播\n",
    "    optimizer.step()  # 更新权重参数\n",
    "    if (epoch + 1) % 50 == 0:\n",
    "        print(f\"Epoch {epoch + 1}/{num_epochs}, Loss: {loss.item():.4f}\")\n",
    "\n",
    "# 查看学习到的权重\n",
    "raw_weights = model.weights\n",
    "weights = torch.cumsum(torch.nn.functional.softplus(raw_weights), dim=0)\n",
    "print(\"Learned weights:\", weights)\n"
   ]
  }
 ],
 "metadata": {
  "kernelspec": {
   "display_name": "gaussian_splatting",
   "language": "python",
   "name": "python3"
  },
  "language_info": {
   "codemirror_mode": {
    "name": "ipython",
    "version": 3
   },
   "file_extension": ".py",
   "mimetype": "text/x-python",
   "name": "python",
   "nbconvert_exporter": "python",
   "pygments_lexer": "ipython3",
   "version": "3.7.12"
  }
 },
 "nbformat": 4,
 "nbformat_minor": 2
}
