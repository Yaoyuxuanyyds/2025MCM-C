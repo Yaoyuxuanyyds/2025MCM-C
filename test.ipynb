{
 "cells": [
  {
   "cell_type": "markdown",
   "metadata": {},
   "source": [
    "## 序列数据加载"
   ]
  },
  {
   "cell_type": "code",
   "execution_count": null,
   "metadata": {},
   "outputs": [],
   "source": [
    "import pandas as pd\n",
    "import numpy as np\n",
    "import torch\n",
    "import torch.nn as nn\n",
    "import torch.optim as optim"
   ]
  },
  {
   "cell_type": "code",
   "execution_count": 36,
   "metadata": {},
   "outputs": [
    {
     "name": "stdout",
     "output_type": "stream",
     "text": [
      "{'3x3 Basketball': 0, 'Aeronautics': 1, 'Alpinism': 2, 'Archery': 3, 'Art Competitions': 4, 'Artistic Gymnastics': 5, 'Artistic Swimming': 6, 'Athletics': 7, 'Badminton': 8, 'Baseball': 9, 'Baseball/Softball': 10, 'Basketball': 11, 'Basque Pelota': 12, 'Beach Volleyball': 13, 'Boxing': 14, 'Breaking': 15, 'Canoe Slalom': 16, 'Canoe Sprint': 17, 'Canoeing': 18, 'Cricket': 19, 'Croquet': 20, 'Cycling': 21, 'Cycling BMX Freestyle': 22, 'Cycling BMX Racing': 23, 'Cycling Mountain Bike': 24, 'Cycling Road': 25, 'Cycling Track': 26, 'Diving': 27, 'Equestrian': 28, 'Equestrianism': 29, 'Fencing': 30, 'Figure Skating': 31, 'Football': 32, 'Golf': 33, 'Gymnastics': 34, 'Handball': 35, 'Hockey': 36, 'Ice Hockey': 37, 'Jeu De Paume': 38, 'Judo': 39, 'Karate': 40, 'Lacrosse': 41, 'Marathon Swimming': 42, 'Modern Pentathlon': 43, 'Motorboating': 44, 'Polo': 45, 'Racquets': 46, 'Rhythmic Gymnastics': 47, 'Roque': 48, 'Rowing': 49, 'Rugby': 50, 'Rugby Sevens': 51, 'Sailing': 52, 'Shooting': 53, 'Skateboarding': 54, 'Softball': 55, 'Sport Climbing': 56, 'Surfing': 57, 'Swimming': 58, 'Synchronized Swimming': 59, 'Table Tennis': 60, 'Taekwondo': 61, 'Tennis': 62, 'Trampoline Gymnastics': 63, 'Trampolining': 64, 'Triathlon': 65, 'Tug-Of-War': 66, 'Volleyball': 67, 'Water Polo': 68, 'Weightlifting': 69, 'Wrestling': 70}\n",
      "{1896: 0, 1900: 1, 1904: 2, 1906: 3, 1908: 4, 1912: 5, 1920: 6, 1924: 7, 1928: 8, 1932: 9, 1936: 10, 1948: 11, 1952: 12, 1956: 13, 1960: 14, 1964: 15, 1968: 16, 1972: 17, 1976: 18, 1980: 19, 1984: 20, 1988: 21, 1992: 22, 1996: 23, 2000: 24, 2004: 25, 2008: 26, 2012: 27, 2016: 28, 2020: 29, 2024: 30}\n",
      "结果张量已保存到 data/olympic_medals.npy\n",
      "张量形状: (71, 31, 157)\n"
     ]
    }
   ],
   "source": [
    "\n",
    "\n",
    "# 1. 加载数据\n",
    "file_path = 'data/summerOly_athletes.csv'\n",
    "data = pd.read_csv(file_path)\n",
    "\n",
    "# 2. 数据预处理\n",
    "# 过滤掉没有奖牌的数据\n",
    "data = data[data['Medal'] != 'No medal']\n",
    "\n",
    "# 获取独特的运动项目、年份和代表队\n",
    "sports = sorted(data['Sport'].unique())  # 运动项目 S\n",
    "years = sorted(data['Year'].unique())   # 奥运会年份 T\n",
    "nocs = sorted(data['NOC'].unique())     # 国家代表队 N\n",
    "\n",
    "# 构建映射表\n",
    "sport_to_idx = {sport: i for i, sport in enumerate(sports)}\n",
    "year_to_idx = {year: i for i, year in enumerate(years)}\n",
    "noc_to_idx = {noc: i for i, noc in enumerate(nocs)}\n",
    "print(sport_to_idx)\n",
    "print(year_to_idx)\n",
    "\n",
    "# 初始化结果张量\n",
    "S, T, N = len(sports), len(years), len(nocs)\n",
    "result_tensor = np.zeros((S, T, N), dtype=int)\n",
    "\n",
    "# 3. 构建张量\n",
    "for _, row in data.iterrows():\n",
    "    sport_idx = sport_to_idx[row['Sport']]\n",
    "    year_idx = year_to_idx[row['Year']]\n",
    "    noc_idx = noc_to_idx[row['NOC']]\n",
    "    result_tensor[sport_idx, year_idx, noc_idx] = 1  # 标记该国家在该年该运动有奖牌\n",
    "\n",
    "# 4. 保存结果\n",
    "output_path = 'data/olympic_medals.npy'\n",
    "np.save(output_path, result_tensor)\n",
    "print(f\"结果张量已保存到 {output_path}\")\n",
    "print(f\"张量形状: {result_tensor.shape}\")  # 输出 S*T*N 的张量形状\n"
   ]
  },
  {
   "cell_type": "code",
   "execution_count": 43,
   "metadata": {},
   "outputs": [
    {
     "name": "stdout",
     "output_type": "stream",
     "text": [
      "[[0 0 0 ... 0 0 0]\n",
      " [0 0 0 ... 0 0 0]\n",
      " [0 0 0 ... 0 0 0]\n",
      " ...\n",
      " [0 0 0 ... 0 0 0]\n",
      " [0 0 0 ... 0 0 0]\n",
      " [0 0 0 ... 0 0 0]]\n",
      "57\n",
      "['Aeronautics', 'Alpinism', 'Artistic Swimming', 'Baseball/Softball', 'Basque Pelota', 'Breaking', 'Cricket', 'Croquet', 'Cycling BMX Racing', 'Cycling Mountain Bike', 'Figure Skating', 'Ice Hockey', 'Jeu De Paume', 'Lacrosse', 'Marathon Swimming', 'Motorboating', 'Racquets', 'Roque', 'Surfing', 'Trampoline Gymnastics']\n"
     ]
    }
   ],
   "source": [
    "t = result_tensor[8]\n",
    "print(t)\n",
    "print(sum(sum(t)))\n",
    "# 筛选出sum(sum(t))的值小于10的运动\n",
    "sport_to_idx_inv = {v: k for k, v in sport_to_idx.items()}\n",
    "selected_sports = [sport_to_idx_inv[i] for i in range(S) if sum(sum(result_tensor[i])) < 10]\n",
    "print(selected_sports)\n"
   ]
  },
  {
   "cell_type": "markdown",
   "metadata": {},
   "source": [
    "## 建立模型 （针对某一项运动）"
   ]
  },
  {
   "cell_type": "markdown",
   "metadata": {},
   "source": [
    "## TODO:\n",
    "### 1. 对于每个 **年份-国家** 的二维 01 数据，使用 **运动员数量-国家** 的统计数据作为平滑01分布的参考，即对于每个国家，其运动员数量越多，越可能获得奖牌。对于每个年份，已经统计了 **运动员数量-国家** 的分布（国家为横坐标）\n",
    "\n",
    "### 2. 现在建模的是每个运动的大类"
   ]
  },
  {
   "cell_type": "code",
   "execution_count": 41,
   "metadata": {},
   "outputs": [
    {
     "name": "stdout",
     "output_type": "stream",
     "text": [
      "Epoch 50/1000, Loss: 69.1623\n",
      "Epoch 100/1000, Loss: 40.3209\n",
      "Epoch 150/1000, Loss: 25.5777\n",
      "Epoch 200/1000, Loss: 17.4934\n",
      "Epoch 250/1000, Loss: 12.7328\n",
      "Epoch 300/1000, Loss: 9.7497\n",
      "Epoch 350/1000, Loss: 7.7812\n",
      "Epoch 400/1000, Loss: 6.4257\n",
      "Epoch 450/1000, Loss: 5.4589\n",
      "Epoch 500/1000, Loss: 4.7490\n",
      "Epoch 550/1000, Loss: 4.2149\n",
      "Epoch 600/1000, Loss: 3.8047\n",
      "Epoch 650/1000, Loss: 3.4841\n",
      "Epoch 700/1000, Loss: 3.2296\n",
      "Epoch 750/1000, Loss: 3.0250\n",
      "Epoch 800/1000, Loss: 2.8585\n",
      "Epoch 850/1000, Loss: 2.7218\n",
      "Epoch 900/1000, Loss: 2.6085\n",
      "Epoch 950/1000, Loss: 2.5139\n",
      "Epoch 1000/1000, Loss: 2.4343\n",
      "Learned weights: tensor([0.1714, 0.3427, 0.5141, 0.6854, 0.8568, 1.0281, 1.1995, 1.3709, 1.5422,\n",
      "        1.7136, 1.8849, 2.0550, 2.2231, 2.3891, 2.5541, 2.7177, 2.8809, 3.0432,\n",
      "        3.2060, 3.3697, 3.5376, 3.7059, 3.8812, 4.0602, 4.2395, 4.4204, 4.5992,\n",
      "        4.7773, 4.9562, 5.1602, 6.4735], grad_fn=<CumsumBackward0>)\n"
     ]
    }
   ],
   "source": [
    "# 加载某一项运动对应的数据作为时间序列数据用于训练\n",
    "x = torch.tensor(np.load('data/olympic_medals.npy')[8], dtype=torch.float32)  \n",
    "\n",
    "\n",
    "# reweight \n",
    "\n",
    "\n",
    "\n",
    "x_reweight = x\n",
    "\n",
    "\n",
    "T, N = x.size()  # 时间序列长度和向量维度\n",
    "\n",
    "# 定义权重优化模型\n",
    "class WeightOptimizer(nn.Module):\n",
    "    def __init__(self, T):\n",
    "        super(WeightOptimizer, self).__init__()\n",
    "        # 初始化全局权重序列为可训练参数\n",
    "        self.weights = nn.Parameter(torch.ones(T))  # 长度为 T 的权重序列\n",
    "\n",
    "\n",
    "    def forward(self, x):\n",
    "        T, N = x.size()  # 时间序列长度和向量维度\n",
    "        total_loss = 0  # 损失累计\n",
    "        \n",
    "        for k in range(1, T):  # 从时间步 2 开始预测\n",
    "            # 通过 Softplus 确保非负，再通过 cumsum 累加确保单增\n",
    "            weights = torch.cumsum(torch.nn.functional.softplus(self.weights), dim=0)  # (T,)\n",
    "            # 截取前 k 个权重\n",
    "            k_weights = weights[:k]\n",
    "            # 根据权重加权计算预测值\n",
    "            x_pred = torch.mean(k_weights.unsqueeze(1) * x[:k], dim=0)  # (N,)\n",
    "            # 计算当前时间步的预测损失\n",
    "            total_loss += torch.norm(x_pred - x[k]) ** 2\n",
    "\n",
    "\n",
    "        # 返回平均损失\n",
    "        return total_loss / T\n",
    "\n",
    "# 实例化模型\n",
    "model = WeightOptimizer(T)\n",
    "\n",
    "# 定义优化器\n",
    "optimizer = optim.Adam(model.parameters(), lr=0.01)\n",
    "\n",
    "# 训练循环\n",
    "num_epochs = 1000\n",
    "for epoch in range(num_epochs):\n",
    "    optimizer.zero_grad()  # 清除梯度\n",
    "    loss = model(x)  # 计算损失\n",
    "    loss.backward()  # 反向传播\n",
    "    optimizer.step()  # 更新权重参数\n",
    "    if (epoch + 1) % 50 == 0:\n",
    "        print(f\"Epoch {epoch + 1}/{num_epochs}, Loss: {loss.item():.4f}\")\n",
    "\n",
    "# 查看学习到的权重\n",
    "raw_weights = model.weights\n",
    "weights = torch.cumsum(torch.nn.functional.softplus(raw_weights), dim=0)\n",
    "print(\"Learned weights:\", weights)\n"
   ]
  }
 ],
 "metadata": {
  "kernelspec": {
   "display_name": "gaussian_splatting",
   "language": "python",
   "name": "python3"
  },
  "language_info": {
   "codemirror_mode": {
    "name": "ipython",
    "version": 3
   },
   "file_extension": ".py",
   "mimetype": "text/x-python",
   "name": "python",
   "nbconvert_exporter": "python",
   "pygments_lexer": "ipython3",
   "version": "3.7.12"
  }
 },
 "nbformat": 4,
 "nbformat_minor": 2
}
